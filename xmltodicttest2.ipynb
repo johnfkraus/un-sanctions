{
 "cells": [
  {
   "cell_type": "code",
   "execution_count": 2,
   "metadata": {},
   "outputs": [
    {
     "name": "stdout",
     "output_type": "stream",
     "text": [
      "{\n",
      "    \"mydocument\": {\n",
      "        \"@has\": \"an attribute\",\n",
      "        \"and\": {\n",
      "            \"many\": [\n",
      "                \"elements\",\n",
      "                \"more elements\"\n",
      "            ]\n",
      "        },\n",
      "        \"plus\": {\n",
      "            \"@a\": \"complex\",\n",
      "            \"#text\": \"element as well\"\n",
      "        }\n",
      "    }\n",
      "}\n"
     ]
    }
   ],
   "source": [
    "import xmltodict\n",
    "import json\n",
    "\n",
    "print(json.dumps(xmltodict.parse(\"\"\"\n",
    "  <mydocument has=\"an attribute\">\n",
    "    <and>\n",
    "      <many>elements</many>\n",
    "      <many>more elements</many>\n",
    "    </and>\n",
    "    <plus a=\"complex\">\n",
    "      element as well\n",
    "    </plus>\n",
    "  </mydocument>\n",
    "  \"\"\"), indent=4))\n"
   ]
  },
  {
   "cell_type": "code",
   "execution_count": 16,
   "metadata": {},
   "outputs": [
    {
     "name": "stdout",
     "output_type": "stream",
     "text": [
      "<class 'list'>\n",
      "{'DATAID': '6908555', 'VERSIONNUM': '1', 'FIRST_NAME': 'RI', 'SECOND_NAME': 'WON HO', 'THIRD_NAME': None, 'UN_LIST_TYPE': 'DPRK', 'REFERENCE_NUMBER': 'KPi.033', 'LISTED_ON': '2016-11-30', 'COMMENTS1': 'Ri Won Ho is a DPRK Ministry of State Security Official stationed in Syria\\n                supporting\\n                KOMID.', 'DESIGNATION': {'VALUE': 'DPRK Ministry of State Security Official'}, 'NATIONALITY': {'VALUE': \"Democratic People's Republic of Korea\"}, 'LIST_TYPE': {'VALUE': 'UN List'}, 'LAST_DAY_UPDATED': {'VALUE': None}, 'INDIVIDUAL_ALIAS': {'QUALITY': None, 'ALIAS_NAME': None}, 'INDIVIDUAL_ADDRESS': {'COUNTRY': None}, 'INDIVIDUAL_DATE_OF_BIRTH': {'TYPE_OF_DATE': 'EXACT', 'DATE': '1964-07-17'}, 'INDIVIDUAL_PLACE_OF_BIRTH': None, 'INDIVIDUAL_DOCUMENT': {'TYPE_OF_DOCUMENT': 'Passport', 'NUMBER': '381310014'}, 'SORT_KEY': None, 'SORT_KEY_LAST_MOD': None}\n",
      "{'DATAID': '6908570', 'VERSIONNUM': '1', 'FIRST_NAME': 'CHANG', 'SECOND_NAME': 'CHANG HA', 'THIRD_NAME': None, 'UN_LIST_TYPE': 'DPRK', 'REFERENCE_NUMBER': 'KPi.037', 'LISTED_ON': '2016-11-30', 'COMMENTS1': None, 'DESIGNATION': {'VALUE': 'President of the Second Academy of Natural Sciences (SANS)'}, 'NATIONALITY': {'VALUE': \"Democratic People's Republic of Korea\"}, 'LIST_TYPE': {'VALUE': 'UN List'}, 'LAST_DAY_UPDATED': {'VALUE': None}, 'INDIVIDUAL_ALIAS': {'QUALITY': 'Good', 'ALIAS_NAME': 'Jang Chang Ha'}, 'INDIVIDUAL_ADDRESS': {'COUNTRY': None}, 'INDIVIDUAL_DATE_OF_BIRTH': {'TYPE_OF_DATE': 'EXACT', 'DATE': '1964-01-10'}, 'INDIVIDUAL_PLACE_OF_BIRTH': None, 'INDIVIDUAL_DOCUMENT': None, 'SORT_KEY': None, 'SORT_KEY_LAST_MOD': None}\n",
      "{'DATAID': '6908571', 'VERSIONNUM': '1', 'FIRST_NAME': 'CHO', 'SECOND_NAME': 'CHUN RYONG', 'THIRD_NAME': None, 'UN_LIST_TYPE': 'DPRK', 'REFERENCE_NUMBER': 'KPi.038', 'LISTED_ON': '2016-11-30', 'COMMENTS1': None, 'DESIGNATION': {'VALUE': 'Chairman of the Second Economic Committee (SEC)'}, 'NATIONALITY': {'VALUE': \"Democratic People's Republic of Korea\"}, 'LIST_TYPE': {'VALUE': 'UN List'}, 'LAST_DAY_UPDATED': {'VALUE': None}, 'INDIVIDUAL_ALIAS': {'QUALITY': 'Good', 'ALIAS_NAME': 'Jo Chun Ryong'}, 'INDIVIDUAL_ADDRESS': {'COUNTRY': None}, 'INDIVIDUAL_DATE_OF_BIRTH': {'TYPE_OF_DATE': 'EXACT', 'DATE': '1960-04-04'}, 'INDIVIDUAL_PLACE_OF_BIRTH': None, 'INDIVIDUAL_DOCUMENT': None, 'SORT_KEY': None, 'SORT_KEY_LAST_MOD': None}\n",
      "{'DATAID': '6908858', 'VERSIONNUM': '1', 'FIRST_NAME': 'EMRAAN', 'SECOND_NAME': 'ALI', 'THIRD_NAME': None, 'UN_LIST_TYPE': 'Al-Qaida', 'REFERENCE_NUMBER': 'QDi.430', 'LISTED_ON': '2021-11-23', 'COMMENTS1': 'Senior member of Islamic State in Iraq and the Levant (ISIL), listed as\\n                Al-Qaida in\\n                Iraq (QDe.115). Recruited for ISIL and instructed individuals to perpetrate\\n                terrorist acts.\\n                Physical description: height 176 cm, weight 73 kg, medium built, colour of eyes-\\n                brown,\\n                colour of hair- black/bald, complexion- brown. Speaks English. INTERPOL-UN Security\\n                Council\\n                Special Notice web link:\\n                https://www.interpol.int/en/How-we-work/Notices/View-UN-Notices-Individuals', 'NATIONALITY': {'VALUE': ['Trinidad and Tobago', 'United States of America']}, 'LIST_TYPE': {'VALUE': 'UN List'}, 'LAST_DAY_UPDATED': {'VALUE': '2022-04-01'}, 'INDIVIDUAL_ALIAS': {'QUALITY': 'Low', 'ALIAS_NAME': 'Abu Jihad TNT'}, 'INDIVIDUAL_ADDRESS': [{'COUNTRY': 'United States of America', 'NOTE': 'in detention, Federal Detention Center – Miami, Register Number:\\n                    10423-509'}, {'STATE_PROVINCE': '#12 Rio Claro Mayaro Road, Rio Claro', 'COUNTRY': 'Trinidad and Tobago', 'NOTE': 'previous location 2008-March 2015'}, {'STATE_PROVINCE': '#7 GUAYAGUAYARE Road, Rio Claro', 'COUNTRY': 'Trinidad and Tobago', 'NOTE': 'previous location circa 2003'}, {'COUNTRY': 'United States of America', 'NOTE': 'previous location- January 1991-2008'}], 'INDIVIDUAL_DATE_OF_BIRTH': {'TYPE_OF_DATE': 'EXACT', 'DATE': '1967-07-04'}, 'INDIVIDUAL_PLACE_OF_BIRTH': {'STATE_PROVINCE': 'Rio Claro', 'COUNTRY': 'Trinidad and Tobago'}, 'INDIVIDUAL_DOCUMENT': [{'TYPE_OF_DOCUMENT': 'Passport', 'NUMBER': 'TB162181', 'ISSUING_COUNTRY': 'Trinidad and Tobago', 'NOTE': 'issued on 27 January 2015, expired 26 January 2020'}, {'TYPE_OF_DOCUMENT': 'Passport', 'NUMBER': '420985453', 'ISSUING_COUNTRY': 'United States of America', 'NOTE': 'expired 6 February 2017'}, {'TYPE_OF_DOCUMENT': 'National Identification Number', 'NUMBER': '19670704052', 'ISSUING_COUNTRY': 'Trinidad and Tobago'}], 'SORT_KEY': None, 'SORT_KEY_LAST_MOD': None}\n"
     ]
    },
    {
     "ename": "AttributeError",
     "evalue": "module 'json' has no attribute 'dums'",
     "output_type": "error",
     "traceback": [
      "\u001b[0;31m---------------------------------------------------------------------------\u001b[0m",
      "\u001b[0;31mAttributeError\u001b[0m                            Traceback (most recent call last)",
      "Cell \u001b[0;32mIn[16], line 20\u001b[0m\n\u001b[1;32m     15\u001b[0m     \u001b[39mprint\u001b[39m(item)\n\u001b[1;32m     17\u001b[0m \u001b[39m# consol_json = json.dumps(indivs, indent=2)\u001b[39;00m\n\u001b[1;32m     18\u001b[0m \n\u001b[1;32m     19\u001b[0m \u001b[39m# df = pd.read_json(consol_json)\u001b[39;00m\n\u001b[0;32m---> 20\u001b[0m df \u001b[39m=\u001b[39m pd\u001b[39m.\u001b[39mread_json(json\u001b[39m.\u001b[39;49mdums(indivs))\n",
      "\u001b[0;31mAttributeError\u001b[0m: module 'json' has no attribute 'dums'"
     ]
    }
   ],
   "source": [
    "import xmltodict\n",
    "import json\n",
    "import pandas as pd\n",
    "\n",
    "with open('consol.xml', 'r') as f:\n",
    "    data = f.read()\n",
    "\n",
    "# print(data[:300])\n",
    "\n",
    "consol = xmltodict.parse(data)\n",
    "\n",
    "indivs = consol['CONSOLIDATED_LIST']['INDIVIDUALS']['INDIVIDUAL']\n",
    "print(type(indivs))\n",
    "for item in indivs:\n",
    "    print(item)\n",
    "\n",
    "# consol_json = json.dumps(indivs, indent=2)\n",
    "\n",
    "# df = pd.read_json(consol_json)\n",
    "df = pd.read_json(json.dumsp(indivs))\n"
   ]
  },
  {
   "cell_type": "code",
   "execution_count": null,
   "metadata": {},
   "outputs": [],
   "source": []
  }
 ],
 "metadata": {
  "kernelspec": {
   "display_name": "venv",
   "language": "python",
   "name": "python3"
  },
  "language_info": {
   "codemirror_mode": {
    "name": "ipython",
    "version": 3
   },
   "file_extension": ".py",
   "mimetype": "text/x-python",
   "name": "python",
   "nbconvert_exporter": "python",
   "pygments_lexer": "ipython3",
   "version": "3.9.12"
  },
  "orig_nbformat": 4,
  "vscode": {
   "interpreter": {
    "hash": "f1506353a1e91560ee1cdaf03a483f242963151ff813fcc6462b4fd55cd94617"
   }
  }
 },
 "nbformat": 4,
 "nbformat_minor": 2
}
