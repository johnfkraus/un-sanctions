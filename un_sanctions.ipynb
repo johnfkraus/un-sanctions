{
 "cells": [
  {
   "attachments": {},
   "cell_type": "markdown",
   "metadata": {},
   "source": [
    "## UN Sanctions\n",
    "\n",
    "xml to pandas:\n",
    "\n",
    "https://www.geeksforgeeks.org/convert-xml-structure-to-dataframe-using-beautifulsoup-python/\n"
   ]
  },
  {
   "cell_type": "code",
   "execution_count": 6,
   "metadata": {},
   "outputs": [],
   "source": [
    "\n",
    "from bs4 import BeautifulSoup\n",
    "import pandas as pd\n",
    "\n",
    "# Reading the data inside the xml\n",
    "# file to a variable under the name\n",
    "# data\n",
    "\n",
    "# with open('consolidated.xml', 'r') as f:\n",
    "with open('gfg.xml', 'r') as f:\n",
    "\tdata = f.read()\n"
   ]
  },
  {
   "cell_type": "code",
   "execution_count": 7,
   "metadata": {},
   "outputs": [],
   "source": [
    "\n",
    "# Passing the stored data inside\n",
    "# the beautifulsoup parser, storing\n",
    "# the returned object\n",
    "soup = BeautifulSoup(data, \"xml\")\n"
   ]
  },
  {
   "cell_type": "code",
   "execution_count": 8,
   "metadata": {},
   "outputs": [],
   "source": [
    "authors = soup.find_all('author')\n",
    "titles = soup.find_all('title')\n",
    "prices = soup.find_all('price')\n",
    "pubdate = soup.find_all('publish_date')\n",
    "genres = soup.find_all('genre')\n",
    "des = soup.find_all('description')\n"
   ]
  },
  {
   "cell_type": "code",
   "execution_count": 10,
   "metadata": {},
   "outputs": [],
   "source": [
    "data = []\n",
    "for i in range(0,len(authors)):\n",
    "\trows = [authors[i].get_text(),titles[i].get_text(),\n",
    "\t\t\tgenres[i].get_text(),prices[i].get_text(),\n",
    "\t\t\tpubdate[i].get_text(),des[i].get_text()]\n",
    "\tdata.append(rows)\n"
   ]
  },
  {
   "cell_type": "code",
   "execution_count": 11,
   "metadata": {},
   "outputs": [
    {
     "name": "stderr",
     "output_type": "stream",
     "text": [
      "/var/folders/z7/t8qyfffs7h3dqbzjkmmhz03r0000gp/T/ipykernel_63109/665056109.py:1: FutureWarning: Could not cast to float64, falling back to object. This behavior is deprecated. In a future version, when a dtype is passed to 'DataFrame', either all columns will be cast to that dtype, or a TypeError will be raised.\n",
      "  df = pd.DataFrame(data,columns = ['Author','Book Title',\n"
     ]
    },
    {
     "data": {
      "text/html": [
       "<div>\n",
       "<style scoped>\n",
       "    .dataframe tbody tr th:only-of-type {\n",
       "        vertical-align: middle;\n",
       "    }\n",
       "\n",
       "    .dataframe tbody tr th {\n",
       "        vertical-align: top;\n",
       "    }\n",
       "\n",
       "    .dataframe thead th {\n",
       "        text-align: right;\n",
       "    }\n",
       "</style>\n",
       "<table border=\"1\" class=\"dataframe\">\n",
       "  <thead>\n",
       "    <tr style=\"text-align: right;\">\n",
       "      <th></th>\n",
       "      <th>Author</th>\n",
       "      <th>Book Title</th>\n",
       "      <th>Genre</th>\n",
       "      <th>Price</th>\n",
       "      <th>Publish Date</th>\n",
       "      <th>Description</th>\n",
       "    </tr>\n",
       "  </thead>\n",
       "  <tbody>\n",
       "    <tr>\n",
       "      <th>0</th>\n",
       "      <td>Gambardella, Matthew</td>\n",
       "      <td>XML Developer's Guide</td>\n",
       "      <td>Computer</td>\n",
       "      <td>44.95</td>\n",
       "      <td>2000-10-01</td>\n",
       "      <td>An in-depth look at creating applications with...</td>\n",
       "    </tr>\n",
       "    <tr>\n",
       "      <th>1</th>\n",
       "      <td>Ralls, Kim</td>\n",
       "      <td>Midnight Rain</td>\n",
       "      <td>Fantasy</td>\n",
       "      <td>5.95</td>\n",
       "      <td>2000-12-16</td>\n",
       "      <td>A former architect battles corporate zombies, ...</td>\n",
       "    </tr>\n",
       "    <tr>\n",
       "      <th>2</th>\n",
       "      <td>Corets, Eva</td>\n",
       "      <td>Maeve Ascendant</td>\n",
       "      <td>Fantasy</td>\n",
       "      <td>5.95</td>\n",
       "      <td>2000-11-17</td>\n",
       "      <td>After the collapse of a nanotechnology society...</td>\n",
       "    </tr>\n",
       "    <tr>\n",
       "      <th>3</th>\n",
       "      <td>Corets, Eva</td>\n",
       "      <td>Oberon's Legacy</td>\n",
       "      <td>Fantasy</td>\n",
       "      <td>5.95</td>\n",
       "      <td>2001-03-10</td>\n",
       "      <td>In post-apocalypse England, the mysterious age...</td>\n",
       "    </tr>\n",
       "    <tr>\n",
       "      <th>4</th>\n",
       "      <td>Corets, Eva</td>\n",
       "      <td>The Sundered Grail</td>\n",
       "      <td>Fantasy</td>\n",
       "      <td>5.95</td>\n",
       "      <td>2001-09-10</td>\n",
       "      <td>The two daughters of Maeve, half-sisters, batt...</td>\n",
       "    </tr>\n",
       "    <tr>\n",
       "      <th>5</th>\n",
       "      <td>Randall, Cynthia</td>\n",
       "      <td>Lover Birds</td>\n",
       "      <td>Romance</td>\n",
       "      <td>4.95</td>\n",
       "      <td>2000-09-02</td>\n",
       "      <td>When Carla meets Paul at an ornithology confer...</td>\n",
       "    </tr>\n",
       "    <tr>\n",
       "      <th>6</th>\n",
       "      <td>Thurman, Paula</td>\n",
       "      <td>Splish Splash</td>\n",
       "      <td>Romance</td>\n",
       "      <td>4.95</td>\n",
       "      <td>2000-11-02</td>\n",
       "      <td>A deep sea diver finds true love twenty thousa...</td>\n",
       "    </tr>\n",
       "    <tr>\n",
       "      <th>7</th>\n",
       "      <td>Knorr, Stefan</td>\n",
       "      <td>Creepy Crawlies</td>\n",
       "      <td>Horror</td>\n",
       "      <td>4.95</td>\n",
       "      <td>2000-12-06</td>\n",
       "      <td>An anthology of horror stories about roaches,c...</td>\n",
       "    </tr>\n",
       "    <tr>\n",
       "      <th>8</th>\n",
       "      <td>Kress, Peter</td>\n",
       "      <td>Paradox Lost</td>\n",
       "      <td>Science Fiction</td>\n",
       "      <td>6.95</td>\n",
       "      <td>2000-11-02</td>\n",
       "      <td>After an inadvertant trip through a Heisenberg...</td>\n",
       "    </tr>\n",
       "    <tr>\n",
       "      <th>9</th>\n",
       "      <td>O'Brien, Tim</td>\n",
       "      <td>Microsoft .NET: The Programming Bible</td>\n",
       "      <td>Computer</td>\n",
       "      <td>36.95</td>\n",
       "      <td>2000-12-09</td>\n",
       "      <td>Microsoft's .NET initiative is explored in det...</td>\n",
       "    </tr>\n",
       "    <tr>\n",
       "      <th>10</th>\n",
       "      <td>O'Brien, Tim</td>\n",
       "      <td>MSXML3: A Comprehensive Guide</td>\n",
       "      <td>Computer</td>\n",
       "      <td>36.95</td>\n",
       "      <td>2000-12-01</td>\n",
       "      <td>The Microsoft MSXML3 parser is covered in deta...</td>\n",
       "    </tr>\n",
       "    <tr>\n",
       "      <th>11</th>\n",
       "      <td>Galos, Mike</td>\n",
       "      <td>Visual Studio 7: A Comprehensive Guide</td>\n",
       "      <td>Computer</td>\n",
       "      <td>49.95</td>\n",
       "      <td>2001-04-16</td>\n",
       "      <td>Microsoft Visual Studio 7 is explored in depth...</td>\n",
       "    </tr>\n",
       "  </tbody>\n",
       "</table>\n",
       "</div>"
      ],
      "text/plain": [
       "                  Author                              Book Title  \\\n",
       "0   Gambardella, Matthew                   XML Developer's Guide   \n",
       "1             Ralls, Kim                           Midnight Rain   \n",
       "2            Corets, Eva                         Maeve Ascendant   \n",
       "3            Corets, Eva                         Oberon's Legacy   \n",
       "4            Corets, Eva                      The Sundered Grail   \n",
       "5       Randall, Cynthia                             Lover Birds   \n",
       "6         Thurman, Paula                           Splish Splash   \n",
       "7          Knorr, Stefan                         Creepy Crawlies   \n",
       "8           Kress, Peter                            Paradox Lost   \n",
       "9           O'Brien, Tim   Microsoft .NET: The Programming Bible   \n",
       "10          O'Brien, Tim           MSXML3: A Comprehensive Guide   \n",
       "11           Galos, Mike  Visual Studio 7: A Comprehensive Guide   \n",
       "\n",
       "              Genre  Price Publish Date  \\\n",
       "0          Computer  44.95   2000-10-01   \n",
       "1           Fantasy   5.95   2000-12-16   \n",
       "2           Fantasy   5.95   2000-11-17   \n",
       "3           Fantasy   5.95   2001-03-10   \n",
       "4           Fantasy   5.95   2001-09-10   \n",
       "5           Romance   4.95   2000-09-02   \n",
       "6           Romance   4.95   2000-11-02   \n",
       "7            Horror   4.95   2000-12-06   \n",
       "8   Science Fiction   6.95   2000-11-02   \n",
       "9          Computer  36.95   2000-12-09   \n",
       "10         Computer  36.95   2000-12-01   \n",
       "11         Computer  49.95   2001-04-16   \n",
       "\n",
       "                                          Description  \n",
       "0   An in-depth look at creating applications with...  \n",
       "1   A former architect battles corporate zombies, ...  \n",
       "2   After the collapse of a nanotechnology society...  \n",
       "3   In post-apocalypse England, the mysterious age...  \n",
       "4   The two daughters of Maeve, half-sisters, batt...  \n",
       "5   When Carla meets Paul at an ornithology confer...  \n",
       "6   A deep sea diver finds true love twenty thousa...  \n",
       "7   An anthology of horror stories about roaches,c...  \n",
       "8   After an inadvertant trip through a Heisenberg...  \n",
       "9   Microsoft's .NET initiative is explored in det...  \n",
       "10  The Microsoft MSXML3 parser is covered in deta...  \n",
       "11  Microsoft Visual Studio 7 is explored in depth...  "
      ]
     },
     "metadata": {},
     "output_type": "display_data"
    }
   ],
   "source": [
    "df = pd.DataFrame(data,columns = ['Author','Book Title',\n",
    "\t\t\t\t\t\t\t\t'Genre','Price','Publish Date',\n",
    "\t\t\t\t\t\t\t\t'Description'], dtype = float)\n",
    "\n",
    "display(df)"
   ]
  },
  {
   "cell_type": "code",
   "execution_count": 21,
   "metadata": {},
   "outputs": [],
   "source": [
    "\n",
    "\n",
    "# with open('consolidated.xml', 'r') as f:\n",
    "with open('consolidated.xml', 'r') as f:\n",
    "\tun_data = f.read()\n",
    "\n",
    "un_soup = BeautifulSoup(un_data, \"xml\")\n",
    "\n"
   ]
  },
  {
   "cell_type": "code",
   "execution_count": 23,
   "metadata": {},
   "outputs": [
    {
     "name": "stdout",
     "output_type": "stream",
     "text": [
      "<INDIVIDUAL><DATAID>6908555</DATAID><VERSIONNUM>1</VERSIONNUM><FIRST_NAME> RI </FIRST_NAME><SECOND_NAME>WON HO</SECOND_NAME><THIRD_NAME/><UN_LIST_TYPE>DPRK</UN_LIST_TYPE><REFERENCE_NUMBER>KPi.033</REFERENCE_NUMBER><LISTED_ON>2016-11-30</LISTED_ON><COMMENTS1>Ri Won Ho is a DPRK Ministry of State Security Official stationed in Syria supporting KOMID.\n",
      "</COMMENTS1><DESIGNATION><VALUE>DPRK Ministry of State Security Official</VALUE></DESIGNATION><NATIONALITY><VALUE>Democratic People's Republic of Korea</VALUE></NATIONALITY><LIST_TYPE><VALUE>UN List</VALUE></LIST_TYPE><LAST_DAY_UPDATED><VALUE/></LAST_DAY_UPDATED><INDIVIDUAL_ALIAS><QUALITY/><ALIAS_NAME/></INDIVIDUAL_ALIAS><INDIVIDUAL_ADDRESS><COUNTRY/></INDIVIDUAL_ADDRESS><INDIVIDUAL_DATE_OF_BIRTH><TYPE_OF_DATE>EXACT</TYPE_OF_DATE><DATE>1964-07-17</DATE></INDIVIDUAL_DATE_OF_BIRTH><INDIVIDUAL_PLACE_OF_BIRTH/><INDIVIDUAL_DOCUMENT><TYPE_OF_DOCUMENT>Passport</TYPE_OF_DOCUMENT><NUMBER> 381310014</NUMBER></INDIVIDUAL_DOCUMENT><SORT_KEY/><SORT_KEY_LAST_MOD/></INDIVIDUAL>\n"
     ]
    }
   ],
   "source": [
    "\n",
    "# Finding all instances of tag\n",
    "# `unique`\n",
    "indivs = un_soup.find_all('INDIVIDUAL')\n",
    "print(indivs[0])"
   ]
  },
  {
   "cell_type": "code",
   "execution_count": 26,
   "metadata": {},
   "outputs": [
    {
     "ename": "AttributeError",
     "evalue": "ResultSet object has no attribute 'find_all'. You're probably treating a list of elements like a single element. Did you call find_all() when you meant to call find()?",
     "output_type": "error",
     "traceback": [
      "\u001b[0;31m---------------------------------------------------------------------------\u001b[0m",
      "\u001b[0;31mAttributeError\u001b[0m                            Traceback (most recent call last)",
      "Cell \u001b[0;32mIn[26], line 1\u001b[0m\n\u001b[0;32m----> 1\u001b[0m authors \u001b[39m=\u001b[39m indivs\u001b[39m.\u001b[39;49mfind_all(\u001b[39m'\u001b[39m\u001b[39mDATAID\u001b[39m\u001b[39m'\u001b[39m)\n\u001b[1;32m      3\u001b[0m \u001b[39m# DATAID\u001b[39;00m\n\u001b[1;32m      4\u001b[0m \n\u001b[1;32m      5\u001b[0m \n\u001b[1;32m      6\u001b[0m \n\u001b[1;32m      7\u001b[0m \u001b[39m# #>6908555</DATAID><VERSIONNUM>1</VERSIONNUM><FIRST_NAME> RI </FIRST_NAME><SECOND_NAME>WON HO</SECOND_NAME><THIRD_NAME/><UN_LIST_TYPE>DPRK</UN_LIST_TYPE><REFERENCE_NUMBER>KPi.033</REFERENCE_NUMBER><LISTED_ON>2016-11-30</LISTED_ON><COMMENTS1>Ri Won Ho is a DPRK Ministry of State Security Official stationed in Syria supporting KOMID.\u001b[39;00m\n\u001b[1;32m      8\u001b[0m \u001b[39m# </COMMENTS1><DESIGNATION><VALUE>DPRK Ministry of State Security Official</VALUE></DESIGNATION><NATIONALITY><VALUE>Democratic People's Republic of Korea</VALUE></NATIONALITY><LIST_TYPE><VALUE>UN List</VALUE></LIST_TYPE><LAST_DAY_UPDATED><VALUE/></LAST_DAY_UPDATED><INDIVIDUAL_ALIAS><QUALITY/><ALIAS_NAME/></INDIVIDUAL_ALIAS><INDIVIDUAL_ADDRESS><COUNTRY/></INDIVIDUAL_ADDRESS><INDIVIDUAL_DATE_OF_BIRTH><TYPE_OF_DATE>EXACT</TYPE_OF_DATE><DATE>1964-07-17</DATE></INDIVIDUAL_DATE_OF_BIRTH><INDIVIDUAL_PLACE_OF_BIRTH/><INDIVIDUAL_DOCUMENT><TYPE_OF_DOCUMENT>Passport</TYPE_OF_DOCUMENT><NUMBER> 381310014</NUMBER></INDIVIDUAL_DOCUMENT><SORT_KEY/><SORT_KEY_LAST_MOD/></INDIVIDUAL>\u001b[39;00m\n",
      "File \u001b[0;32m~/workspaces/un-sanctions/venv/lib/python3.9/site-packages/bs4/element.py:2289\u001b[0m, in \u001b[0;36mResultSet.__getattr__\u001b[0;34m(self, key)\u001b[0m\n\u001b[1;32m   2287\u001b[0m \u001b[39mdef\u001b[39;00m \u001b[39m__getattr__\u001b[39m(\u001b[39mself\u001b[39m, key):\n\u001b[1;32m   2288\u001b[0m \u001b[39m    \u001b[39m\u001b[39m\"\"\"Raise a helpful exception to explain a common code fix.\"\"\"\u001b[39;00m\n\u001b[0;32m-> 2289\u001b[0m     \u001b[39mraise\u001b[39;00m \u001b[39mAttributeError\u001b[39;00m(\n\u001b[1;32m   2290\u001b[0m         \u001b[39m\"\u001b[39m\u001b[39mResultSet object has no attribute \u001b[39m\u001b[39m'\u001b[39m\u001b[39m%s\u001b[39;00m\u001b[39m'\u001b[39m\u001b[39m. You\u001b[39m\u001b[39m'\u001b[39m\u001b[39mre probably treating a list of elements like a single element. Did you call find_all() when you meant to call find()?\u001b[39m\u001b[39m\"\u001b[39m \u001b[39m%\u001b[39m key\n\u001b[1;32m   2291\u001b[0m     )\n",
      "\u001b[0;31mAttributeError\u001b[0m: ResultSet object has no attribute 'find_all'. You're probably treating a list of elements like a single element. Did you call find_all() when you meant to call find()?"
     ]
    }
   ],
   "source": [
    "authors = indivs.find_all('DATAID')\n",
    "\n",
    "# DATAID\n",
    "\n",
    "\n",
    "\n",
    "# #>6908555</DATAID><VERSIONNUM>1</VERSIONNUM><FIRST_NAME> RI </FIRST_NAME><SECOND_NAME>WON HO</SECOND_NAME><THIRD_NAME/><UN_LIST_TYPE>DPRK</UN_LIST_TYPE><REFERENCE_NUMBER>KPi.033</REFERENCE_NUMBER><LISTED_ON>2016-11-30</LISTED_ON><COMMENTS1>Ri Won Ho is a DPRK Ministry of State Security Official stationed in Syria supporting KOMID.\n",
    "# </COMMENTS1><DESIGNATION><VALUE>DPRK Ministry of State Security Official</VALUE></DESIGNATION><NATIONALITY><VALUE>Democratic People's Republic of Korea</VALUE></NATIONALITY><LIST_TYPE><VALUE>UN List</VALUE></LIST_TYPE><LAST_DAY_UPDATED><VALUE/></LAST_DAY_UPDATED><INDIVIDUAL_ALIAS><QUALITY/><ALIAS_NAME/></INDIVIDUAL_ALIAS><INDIVIDUAL_ADDRESS><COUNTRY/></INDIVIDUAL_ADDRESS><INDIVIDUAL_DATE_OF_BIRTH><TYPE_OF_DATE>EXACT</TYPE_OF_DATE><DATE>1964-07-17</DATE></INDIVIDUAL_DATE_OF_BIRTH><INDIVIDUAL_PLACE_OF_BIRTH/><INDIVIDUAL_DOCUMENT><TYPE_OF_DOCUMENT>Passport</TYPE_OF_DOCUMENT><NUMBER> 381310014</NUMBER></INDIVIDUAL_DOCUMENT><SORT_KEY/><SORT_KEY_LAST_MOD/></INDIVIDUAL>"
   ]
  },
  {
   "cell_type": "code",
   "execution_count": null,
   "metadata": {},
   "outputs": [],
   "source": [
    "\n",
    "# Using find() to extract attributes\n",
    "# of the first instance of the tag\n",
    "# b_name = Bs_data.find('child', {'name':'Frank'})\n",
    "\n",
    "# print(b_name)\n",
    "\n",
    "# Extracting the data stored in a\n",
    "# specific attribute of the\n",
    "# `child` tag\n",
    "# value = b_name.get('test')\n",
    "\n",
    "# print(value)\n"
   ]
  }
 ],
 "metadata": {
  "kernelspec": {
   "display_name": "venv",
   "language": "python",
   "name": "python3"
  },
  "language_info": {
   "codemirror_mode": {
    "name": "ipython",
    "version": 3
   },
   "file_extension": ".py",
   "mimetype": "text/x-python",
   "name": "python",
   "nbconvert_exporter": "python",
   "pygments_lexer": "ipython3",
   "version": "3.9.12"
  },
  "orig_nbformat": 4,
  "vscode": {
   "interpreter": {
    "hash": "f1506353a1e91560ee1cdaf03a483f242963151ff813fcc6462b4fd55cd94617"
   }
  }
 },
 "nbformat": 4,
 "nbformat_minor": 2
}
