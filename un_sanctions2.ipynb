{
 "cells": [
  {
   "cell_type": "code",
   "execution_count": 46,
   "metadata": {},
   "outputs": [],
   "source": [
    "### https,//www.geeksforgeeks.org/how-to-create-pandas-dataframe-from-nested-xml/"
   ]
  },
  {
   "cell_type": "code",
   "execution_count": 47,
   "metadata": {},
   "outputs": [
    {
     "ename": "SyntaxError",
     "evalue": "invalid syntax (3716768597.py, line 14)",
     "output_type": "error",
     "traceback": [
      "\u001b[0;36m  Cell \u001b[0;32mIn[47], line 14\u001b[0;36m\u001b[0m\n\u001b[0;31m    for storeno in root.iter('store'),\u001b[0m\n\u001b[0m                                      ^\u001b[0m\n\u001b[0;31mSyntaxError\u001b[0m\u001b[0;31m:\u001b[0m invalid syntax\n"
     ]
    }
   ],
   "source": [
    "import xml.etree.ElementTree as ETree\n",
    "import pandas as pd\n",
    "\n",
    "# give the path where you saved the xml file\n",
    "# inside the quotes\n",
    "xmldata = \"xmltopandas.xml\"\n",
    "prstree = ETree.parse(xmldata)\n",
    "root = prstree.getroot()\n",
    "\n",
    "# print(root)\n",
    "store_items = []\n",
    "all_items = []\n",
    "\n",
    "for storeno in root.iter('store'),\n",
    "\t\n",
    "\tstore_Nr = storeno.attrib.get('slNo')\n",
    "\titemsF = storeno.find('foodItem').text\n",
    "\tprice = storeno.find('price').text\n",
    "\tquan = storeno.find('quantity').text\n",
    "\tdis = storeno.find('discount').text\n",
    "\n",
    "\tstore_items = [store_Nr, itemsF, price, quan, dis]\n",
    "\tall_items.append(store_items)\n",
    "\n",
    "xmlToDf = pd.DataFrame(all_items, columns=[\n",
    "'SL No', 'ITEM_NUMBER', 'PRICE', 'QUANTITY', 'DISCOUNT'])\n",
    "\n",
    "# print(xmlToDf.to_string(index=False))"
   ]
  },
  {
   "cell_type": "code",
   "execution_count": null,
   "metadata": {},
   "outputs": [],
   "source": [
    "# give the path where you saved the xml file\n",
    "# inside the quotes\n",
    "xmldata = \"consolidated.xml\"\n",
    "prstree = ETree.parse(xmldata)\n",
    "root = prstree.getroot()\n",
    "# print(root.tag)"
   ]
  },
  {
   "cell_type": "code",
   "execution_count": null,
   "metadata": {},
   "outputs": [],
   "source": [
    "\n",
    "# print(root)\n",
    "#store_items = []\n",
    "individuals = []\n",
    "# all_items = []\n",
    "entities = []\n",
    "# All 'neighbor' grand-children of 'country' children of the top-level\n",
    "# elements\n",
    "# root.findall(\"./country/neighbor\")\n",
    "\n",
    "# for indiv in root.iter('INDIVIDUAL'),\n",
    "#     print(indiv.attrib)\n",
    "\n",
    "# indiv_elems = root.findall(\"./INDIVIDUALS/INDIVIDUAL\")\n",
    "# for index, indiv in enumerate(indiv_elems),\n",
    "#     indiv.get\n",
    "#     if index % 30 == 0,\n",
    "#         print(index, indiv)\n",
    "    \n",
    "#     dataid = indiv.attrib.get('./INDIVIDUAL/DATAID')\n",
    "#     print(str(indiv), dataid)\n",
    "#     indiv_row = [dataid]\n",
    "#     individuals.append(indiv_row)\n",
    "#     if index > 4,\n",
    "#         break\n",
    "\n",
    "\n",
    "# for storeno in root.iter('store'),\n",
    "# indivs = root.get('INDIVIDUALS')\n",
    "# indivs = root.findAll('INDIVIDUAL')\n",
    "\n",
    "\n",
    "# for indiv in root.findAll('INDIVIDUAL'),\n",
    "#   if ana.parent.name == 'td',\n",
    "#     print ana[\"href\"]\n"
   ]
  },
  {
   "cell_type": "code",
   "execution_count": null,
   "metadata": {},
   "outputs": [],
   "source": [
    "\n",
    "for storeno in root.iter('store'),\n",
    "\n",
    "\t\n",
    "\tstore_Nr = storeno.attrib.get('slNo')\n",
    "\titemsF = storeno.find('foodItem').text\n",
    "\tprice = storeno.find('price').text\n",
    "\tquan = storeno.find('quantity').text\n",
    "\tdis = storeno.find('discount').text\n",
    "\n",
    "\tstore_items = [store_Nr, itemsF, price, quan, dis]\n",
    "\tall_items.append(store_items)\n",
    "\n",
    "xmlToDf = pd.DataFrame(all_items, columns=[\n",
    "'SL No', 'ITEM_NUMBER', 'PRICE', 'QUANTITY', 'DISCOUNT'])\n",
    "\n",
    "# print(xmlToDf.to_string(index=False))"
   ]
  },
  {
   "attachments": {},
   "cell_type": "markdown",
   "metadata": {},
   "source": [
    "```<INDIVIDUAL>\n",
    "        <DATAID>6908555</DATAID>\n",
    "        <VERSIONNUM>1</VERSIONNUM>\n",
    "        <FIRST_NAME> RI </FIRST_NAME>\n",
    "        <SECOND_NAME>WON HO</SECOND_NAME>\n",
    "        <THIRD_NAME/>\n",
    "        <UN_LIST_TYPE>DPRK</UN_LIST_TYPE>\n",
    "        <REFERENCE_NUMBER>KPi.033</REFERENCE_NUMBER>\n",
    "        <LISTED_ON>2016-11-30</LISTED_ON>\n",
    "        <COMMENTS1>Ri Won Ho is a DPRK Ministry of State Security Official stationed in Syria supporting KOMID.\n",
    "        </COMMENTS1>\n",
    "        <DESIGNATION>\n",
    "                <VALUE>DPRK Ministry of State Security Official</VALUE>\n",
    "        </DESIGNATION>\n",
    "        <NATIONALITY>\n",
    "                <VALUE>Democratic People's Republic of Korea</VALUE></NATIONALITY>\n",
    "        <LIST_TYPE><VALUE>UN List</VALUE></LIST_TYPE>\n",
    "        <LAST_DAY_UPDATED><VALUE/></LAST_DAY_UPDATED>\n",
    "        <INDIVIDUAL_ALIAS><QUALITY/><ALIAS_NAME/></INDIVIDUAL_ALIAS>\n",
    "        <INDIVIDUAL_ADDRESS><COUNTRY/></INDIVIDUAL_ADDRESS>\n",
    "        <INDIVIDUAL_DATE_OF_BIRTH><TYPE_OF_DATE>EXACT</TYPE_OF_DATE><DATE>1964-07-17</DATE></INDIVIDUAL_DATE_OF_BIRTH>\n",
    "        <INDIVIDUAL_PLACE_OF_BIRTH/>\n",
    "        <INDIVIDUAL_DOCUMENT>\n",
    "                <TYPE_OF_DOCUMENT>Passport</TYPE_OF_DOCUMENT>\n",
    "                <NUMBER> 381310014</NUMBER>\n",
    "        </INDIVIDUAL_DOCUMENT>\n",
    "        <SORT_KEY/>\n",
    "        <SORT_KEY_LAST_MOD/>\n",
    "</INDIVIDUAL>```"
   ]
  },
  {
   "cell_type": "code",
   "execution_count": null,
   "metadata": {},
   "outputs": [],
   "source": [
    "inds = []\n",
    "for indiv in root.findall('INDIVIDUALS/INDIVIDUAL'),\n",
    "    # using root.findall() to avoid removal during traversal\n",
    "    dataid = int(indiv.find('DATAID').text)\n",
    "    \n",
    "\n",
    "    first_name = indiv.find('FIRST_NAME').text if indiv.find('FIRST_NAME') is not None else None\n",
    "    second_name = indiv.find('SECOND_NAME').text if indiv.find('SECOND_NAME') is not None else None\n",
    "    third_name = indiv.find('THIRD_NAME').text if indiv.find('THIRD_NAME') is not None else None\n",
    "\n",
    "    \n",
    "    indiv_row = [dataid, first_name, second_name, third_name]\n",
    "    inds.append(indiv_row)\n",
    "    # print(rank)\n",
    "    # if rank > 50,\n",
    "    #     root.remove(country)\n",
    "\n",
    "# tree.write('output.xml')\n",
    "    \n",
    "xmlToDf = pd.DataFrame(inds,columns=[\n",
    "  'DATAID','FIRST_NAME','SECOND_NAME','THIRD_NAME'])\n",
    "\n",
    "print(xmlToDf.shape)\n",
    "\n",
    "xmlToDf.head()"
   ]
  },
  {
   "cell_type": "code",
   "execution_count": null,
   "metadata": {},
   "outputs": [],
   "source": [
    "import xmltodict\n",
    "import json\n",
    "\n",
    "with open('consolidated.xml', 'r') as f,\n",
    "\tdata = f.read()\n",
    "\n",
    "print(data[,300])\n",
    "\n",
    "undict = xmltodict.parse(data)\n",
    "string = json.dumps(undict, indent=4)\n",
    "# print(string)\n",
    "# print(json.dumps(xmltodict.parse(data)), indent=4)"
   ]
  },
  {
   "cell_type": "code",
   "execution_count": null,
   "metadata": {},
   "outputs": [],
   "source": [
    "def all_keys(dict_obj),\n",
    "    ''' This function generates all keys of\n",
    "        a nested dictionary. \n",
    "    '''\n",
    "    # Iterate over all keys of the dictionary\n",
    "    for key , value in dict_obj.items(),\n",
    "        yield key\n",
    "        # If value is of dictionary type then yield all keys\n",
    "        # in that nested dictionary\n",
    "        if isinstance(value, dict),\n",
    "            for k in all_keys(value),\n",
    "                yield k\n",
    "# Iterate over all keys of a nested dictionary \n",
    "# and print them one by one.\n",
    "# for key in all_keys(undict),\n",
    "#     print(key)"
   ]
  },
  {
   "cell_type": "code",
   "execution_count": null,
   "metadata": {},
   "outputs": [
    {
     "name": "stdout",
     "output_type": "stream",
     "text": [
      "<?xml version=\"1.0\" encoding=\"UTF-8\"?><CONSOLIDATED_LIST xmlns:xsi=\"http://www.w3.org/2001/XMLSchema-instance\" xsi:noNamespaceSchemaLocation=\"https://www.un.org/sc/resources/sc-sanctions.xsd\" dateGenerated=\"2022-10-21T20:40:12.605-04:00\">\n",
      "    <INDIVIDUALS>\n",
      "        <INDIVIDUAL><DATAID>6908555</DATAID\n"
     ]
    }
   ],
   "source": [
    "import xmltodict\n",
    "import json\n",
    "\n",
    "with open('consolidated.xml', 'r') as f:\n",
    "    data = f.read()\n",
    "\n",
    "print(data[:300])\n",
    "\n",
    "undict = xmltodict.parse(data)\n"
   ]
  },
  {
   "cell_type": "code",
   "execution_count": 70,
   "metadata": {},
   "outputs": [
    {
     "name": "stdout",
     "output_type": "stream",
     "text": [
      "DESIGNATION_VALUE\n",
      "'DESIGNATION'\n",
      "INDIVIDUAL_ADDRESS_COUNTRY\n",
      "list indices must be integers or slices, not str\n",
      "===========\n"
     ]
    }
   ],
   "source": [
    "indivs_list = undict['CONSOLIDATED_LIST']['INDIVIDUALS']['INDIVIDUAL']\n",
    "leni = len(indivs_list)\n",
    "rows = []\n",
    "headers = [('DATAID',), ('VERSIONNUM',),('FIRST_NAME',),('SECOND_NAME',), ('THIRD_NAME',), ('UN_LIST_TYPE',),  ('REFERENCE_NUMBER',),  ('LISTED_ON',), ('COMMENTS1',), \n",
    "           ('DESIGNATION', 'VALUE'),\n",
    "            ('NATIONALITY', 'VALUE'), \n",
    "           ('LIST_TYPE', 'VALUE'), \n",
    "           ('LAST_DAY_UPDATED', 'VALUE'), \n",
    "           ('INDIVIDUAL_ALIAS', 'QUALITY', 'ALIAS_NAME'), \n",
    "           ('INDIVIDUAL_ADDRESS', 'COUNTRY'), \n",
    "           ('INDIVIDUAL_DATE_OF_BIRTH', 'TYPE_OF_DATE', 'DATE'), \n",
    "           ('INDIVIDUAL_PLACE_OF_BIRTH',), \n",
    "           ('INDIVIDUAL_DOCUMENT',),  # value might be a list 'TYPE_OF_DOCUMENT', 'NUMBER'), \n",
    "           ('SORT_KEY',),\n",
    "           ('SORT_KEY_LAST_MOD,')]\n",
    "for index, indiv in enumerate(indivs_list):\n",
    "    if index < 5:\n",
    "        un_row = {} #  UN_Row()\n",
    "        # print(index, indiv, type(indiv))\n",
    "        for header in headers:\n",
    "            if (header[0] == 'INDIVIDUAL_DOCUMENT') or (header[0] == 'INDIVIDUAL_ALIAS'):\n",
    "                if type(indiv[header[0]]) is list:  # a list of dicts\n",
    "                    id_list = indiv[header[0]]\n",
    "                    # print(indiv[header[0]])\n",
    "                    # print('is list')\n",
    "                    for index, id_dict in enumerate(id_list):  # expect id to be a dict\n",
    "                        # for item in indiv[header[0]]:\n",
    "                        # print('id ', index, ' = ', id_dict)\n",
    "                        for key in id_dict:\n",
    "                            id_key = header[0] + str(index) + '_' + key\n",
    "                            un_row[id_key] = id_dict[key]\n",
    "                elif type(indiv[header[0]]) is dict:\n",
    "                    # print(header, 'is dict')\n",
    "                    keys = indiv[header[0]].keys()\n",
    "                    for key in keys:\n",
    "                        # id_key = 'INDIVIDUAL_DOCUMENT_0' + key\n",
    "                        id_key = header[0] + '_0_' + key\n",
    "                        un_row[id_key] = indiv[header[0]][key]\n",
    "                # doclist = indiv['INDIVIDUAL_DOCUMENT']\n",
    "                # print(\"doclist = \", doclist)\n",
    "            elif len(header) == 1:\n",
    "            # if not isinstance(indiv[header[0]], dict):\n",
    "                un_row[header[0]] = indiv[header[0]]                \n",
    "            elif len(header) == 2:\n",
    "                try:\n",
    "                    un_row[header[0] + '_' + header[1]] = indiv[header[0]][header[1]]\n",
    "                except Exception as e:\n",
    "                    print(header[0] + '_' + header[1])\n",
    "                    print(indiv)\n",
    "                    print(e)\n",
    "            elif len(header) == 3:\n",
    "                if indiv[header[0]]:\n",
    "                    # print(indiv)\n",
    "                    # print(header[0], header[1], header[2])\n",
    "                    # print(\"header len == 3\", header)\n",
    "                    \n",
    "                    # print(indiv[header[0]][header[1]])\n",
    "\n",
    "                    un_row[header[0] + '_' + header[1]] = indiv[header[0]][header[1]]\n",
    "                    un_row[header[0] + '_' + header[2]] = indiv[header[0]][header[2]]\n",
    "                else:\n",
    "                    indiv[header[0]] = None\n",
    "\n",
    "        # dataid = indiv['DATAID']\n",
    "        # row= [dataid]\n",
    "        rows.append(un_row)\n",
    "\n",
    "print(\"=\"*11)\n",
    "# print(rows)\n",
    "       "
   ]
  },
  {
   "cell_type": "code",
   "execution_count": null,
   "metadata": {},
   "outputs": [],
   "source": []
  }
 ],
 "metadata": {
  "kernelspec": {
   "display_name": "venv",
   "language": "python",
   "name": "python3"
  },
  "language_info": {
   "codemirror_mode": {
    "name": "ipython",
    "version": 3
   },
   "file_extension": ".py",
   "mimetype": "text/x-python",
   "name": "python",
   "nbconvert_exporter": "python",
   "pygments_lexer": "ipython3",
   "version": "3.9.12"
  },
  "orig_nbformat": 4,
  "vscode": {
   "interpreter": {
    "hash": "f1506353a1e91560ee1cdaf03a483f242963151ff813fcc6462b4fd55cd94617"
   }
  }
 },
 "nbformat": 4,
 "nbformat_minor": 2
}
