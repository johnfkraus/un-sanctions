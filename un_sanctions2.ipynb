{
 "cells": [
  {
   "cell_type": "code",
   "execution_count": 1,
   "metadata": {},
   "outputs": [],
   "source": [
    "### https://www.geeksforgeeks.org/how-to-create-pandas-dataframe-from-nested-xml/"
   ]
  },
  {
   "cell_type": "code",
   "execution_count": 3,
   "metadata": {},
   "outputs": [
    {
     "name": "stdout",
     "output_type": "stream",
     "text": [
      "SL No ITEM_NUMBER PRICE  QUANTITY DISCOUNT\n",
      "    1        meat   200       1kg       7%\n",
      "    2        fish   150       1kg       5%\n",
      "    3         egg   100 50 pieces       5%\n",
      "    4        milk    50   1 litre       3%\n"
     ]
    }
   ],
   "source": [
    "import xml.etree.ElementTree as ETree\n",
    "import pandas as pd\n",
    "\n",
    "# give the path where you saved the xml file\n",
    "# inside the quotes\n",
    "xmldata = \"xmltopandas.xml\"\n",
    "prstree = ETree.parse(xmldata)\n",
    "root = prstree.getroot()\n",
    "\n",
    "# print(root)\n",
    "store_items = []\n",
    "all_items = []\n",
    "\n",
    "for storeno in root.iter('store'):\n",
    "\t\n",
    "\tstore_Nr = storeno.attrib.get('slNo')\n",
    "\titemsF = storeno.find('foodItem').text\n",
    "\tprice = storeno.find('price').text\n",
    "\tquan = storeno.find('quantity').text\n",
    "\tdis = storeno.find('discount').text\n",
    "\n",
    "\tstore_items = [store_Nr, itemsF, price, quan, dis]\n",
    "\tall_items.append(store_items)\n",
    "\n",
    "xmlToDf = pd.DataFrame(all_items, columns=[\n",
    "'SL No', 'ITEM_NUMBER', 'PRICE', 'QUANTITY', 'DISCOUNT'])\n",
    "\n",
    "print(xmlToDf.to_string(index=False))\n"
   ]
  },
  {
   "cell_type": "code",
   "execution_count": null,
   "metadata": {},
   "outputs": [],
   "source": []
  }
 ],
 "metadata": {
  "kernelspec": {
   "display_name": "venv",
   "language": "python",
   "name": "python3"
  },
  "language_info": {
   "codemirror_mode": {
    "name": "ipython",
    "version": 3
   },
   "file_extension": ".py",
   "mimetype": "text/x-python",
   "name": "python",
   "nbconvert_exporter": "python",
   "pygments_lexer": "ipython3",
   "version": "3.9.12"
  },
  "orig_nbformat": 4,
  "vscode": {
   "interpreter": {
    "hash": "f1506353a1e91560ee1cdaf03a483f242963151ff813fcc6462b4fd55cd94617"
   }
  }
 },
 "nbformat": 4,
 "nbformat_minor": 2
}
