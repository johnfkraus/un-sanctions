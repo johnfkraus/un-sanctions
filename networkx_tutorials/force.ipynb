{
 "cells": [
  {
   "cell_type": "code",
   "execution_count": 1,
   "metadata": {},
   "outputs": [
    {
     "name": "stdout",
     "output_type": "stream",
     "text": [
      "Wrote node-link JSON data to force/force.json\n",
      "\n",
      "Go to http://localhost:8000/force.html to see the example\n",
      "\n",
      " * Serving Flask app '__main__'\n",
      " * Debug mode: off\n"
     ]
    },
    {
     "name": "stderr",
     "output_type": "stream",
     "text": [
      "\u001b[31m\u001b[1mWARNING: This is a development server. Do not use it in a production deployment. Use a production WSGI server instead.\u001b[0m\n",
      " * Running on http://127.0.0.1:8000\n",
      "\u001b[33mPress CTRL+C to quit\u001b[0m\n",
      "127.0.0.1 - - [14/Jan/2023 09:12:03] \"\u001b[36mGET /force.html HTTP/1.1\u001b[0m\" 304 -\n",
      "127.0.0.1 - - [14/Jan/2023 09:12:03] \"\u001b[36mGET /force.css HTTP/1.1\u001b[0m\" 304 -\n",
      "127.0.0.1 - - [14/Jan/2023 09:12:03] \"GET /force.js HTTP/1.1\" 200 -\n",
      "127.0.0.1 - - [14/Jan/2023 09:12:04] \"GET /force/force.json HTTP/1.1\" 200 -\n",
      "127.0.0.1 - - [14/Jan/2023 09:39:08] \"\u001b[36mGET /force.html HTTP/1.1\u001b[0m\" 304 -\n",
      "127.0.0.1 - - [14/Jan/2023 09:39:08] \"\u001b[36mGET /force.js HTTP/1.1\u001b[0m\" 304 -\n",
      "127.0.0.1 - - [14/Jan/2023 09:39:08] \"\u001b[36mGET /force.css HTTP/1.1\u001b[0m\" 304 -\n",
      "127.0.0.1 - - [14/Jan/2023 09:39:08] \"\u001b[36mGET /force/force.json HTTP/1.1\u001b[0m\" 304 -\n"
     ]
    }
   ],
   "source": [
    "\"\"\"Example of writing JSON format graph data and using the D3 Javascript library to produce an HTML/Javascript drawing.\n",
    "\"\"\"\n",
    "# Author: Aric Hagberg <aric.hagberg@gmail.com>\n",
    "# https://testfixsphinx.readthedocs.io/en/latest/examples/javascript/force.html\n",
    "#    Copyright (C) 2011-2016 by\n",
    "#    Aric Hagberg <hagberg@lanl.gov>\n",
    "#    Dan Schult <dschult@colgate.edu>\n",
    "#    Pieter Swart <swart@lanl.gov>\n",
    "#    All rights reserved.\n",
    "#    BSD license.\n",
    "import json\n",
    "import networkx as nx\n",
    "from networkx.readwrite import json_graph\n",
    "import flask\n",
    "\n",
    "G = nx.barbell_graph(6,3)\n",
    "# this d3 example uses the name attribute for the mouse-hover value,\n",
    "# so add a name to each node\n",
    "# https://stackoverflow.com/questions/58518554/attributeerror-graph-object-has-no-attribute-node\n",
    "for n in G:\n",
    "    G.nodes[n]['name'] = n\n",
    "# write json formatted data\n",
    "d = json_graph.node_link_data(G) # node-link format to serialize\n",
    "# write json\n",
    "json.dump(d, open('force/force.json','w'))\n",
    "print('Wrote node-link JSON data to force/force.json')\n",
    "\n",
    "# Serve the file over http to allow for cross origin requests\n",
    "app = flask.Flask(__name__, static_folder=\"force\")\n",
    "\n",
    "@app.route('/<path:path>')\n",
    "def static_proxy(path):\n",
    "  return app.send_static_file(path)\n",
    "print('\\nGo to http://localhost:8000/force.html to see the example\\n')\n",
    "app.run(port=8000)"
   ]
  },
  {
   "cell_type": "code",
   "execution_count": 3,
   "metadata": {},
   "outputs": [
    {
     "data": {
      "text/html": [
       "\n",
       "        <iframe\n",
       "            width=\"400\"\n",
       "            height=\"400\"\n",
       "            src=\"./force/force.html\"\n",
       "            frameborder=\"0\"\n",
       "            allowfullscreen\n",
       "            \n",
       "        ></iframe>\n",
       "        "
      ],
      "text/plain": [
       "<IPython.lib.display.IFrame at 0x7f78a858e4c0>"
      ]
     },
     "execution_count": 3,
     "metadata": {},
     "output_type": "execute_result"
    }
   ],
   "source": [
    "from IPython.display import IFrame\n",
    "\n",
    "IFrame(src='./force/force.html', width=400, height=400)"
   ]
  },
  {
   "cell_type": "code",
   "execution_count": 8,
   "metadata": {},
   "outputs": [
    {
     "data": {
      "text/html": [
       "<!DOCTYPE html>\n",
       "<html>\n",
       "\n",
       "<head>\n",
       "    <title>Force-Directed Layout</title>\n",
       "    <script type=\"text/javascript\" src=\"https://d3js.org/d3.v4.min.js\"></script>\n",
       "    <link type=\"text/css\" rel=\"stylesheet\" href=\"force.css\" />\n",
       "</head>\n",
       "\n",
       "<body>\n",
       "    <svg width=\"960\" height=\"600\"></svg>\n",
       "    <script type=\"text/javascript\" src=\"force.js\"></script>\n",
       "</body>\n",
       "\n",
       "</html>\n"
      ],
      "text/plain": [
       "<IPython.core.display.HTML object>"
      ]
     },
     "execution_count": 8,
     "metadata": {},
     "output_type": "execute_result"
    }
   ],
   "source": [
    "from IPython.display import HTML\n",
    "HTML(filename='force/force.html',)\n"
   ]
  },
  {
   "cell_type": "code",
   "execution_count": 7,
   "metadata": {},
   "outputs": [
    {
     "data": {
      "text/html": [
       "<!DOCTYPE html>\n",
       "<html>\n",
       "<head>\n",
       "    <title>Force-Directed Layout</title>\n",
       "</head>\n",
       "\n",
       "<body>\n",
       "    <h3>Hello world! 122333</h3>\n",
       "</body>\n",
       "\n",
       "</html>\n"
      ],
      "text/plain": [
       "<IPython.core.display.HTML object>"
      ]
     },
     "execution_count": 7,
     "metadata": {},
     "output_type": "execute_result"
    }
   ],
   "source": [
    "from IPython.display import HTML\n",
    "HTML(filename='force/hello.html')\n"
   ]
  },
  {
   "cell_type": "code",
   "execution_count": 6,
   "metadata": {},
   "outputs": [
    {
     "data": {
      "text/html": [
       "\n",
       "        <iframe\n",
       "            width=\"300\"\n",
       "            height=\"300\"\n",
       "            src=\"force/hello.html\"\n",
       "            frameborder=\"0\"\n",
       "            allowfullscreen\n",
       "            \n",
       "        ></iframe>\n",
       "        "
      ],
      "text/plain": [
       "<IPython.lib.display.IFrame at 0x7f78a858ee20>"
      ]
     },
     "execution_count": 6,
     "metadata": {},
     "output_type": "execute_result"
    }
   ],
   "source": [
    "from IPython.display import IFrame\n",
    "IFrame(src='force/hello.html', width=300, height=300)"
   ]
  },
  {
   "cell_type": "code",
   "execution_count": null,
   "metadata": {},
   "outputs": [],
   "source": []
  }
 ],
 "metadata": {
  "kernelspec": {
   "display_name": "venv",
   "language": "python",
   "name": "python3"
  },
  "language_info": {
   "codemirror_mode": {
    "name": "ipython",
    "version": 3
   },
   "file_extension": ".py",
   "mimetype": "text/x-python",
   "name": "python",
   "nbconvert_exporter": "python",
   "pygments_lexer": "ipython3",
   "version": "3.9.12"
  },
  "orig_nbformat": 4,
  "vscode": {
   "interpreter": {
    "hash": "f1506353a1e91560ee1cdaf03a483f242963151ff813fcc6462b4fd55cd94617"
   }
  }
 },
 "nbformat": 4,
 "nbformat_minor": 2
}
