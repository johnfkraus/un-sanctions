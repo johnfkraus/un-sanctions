{
 "cells": [
  {
   "cell_type": "markdown",
   "metadata": {},
   "source": [
    "https://testfixsphinx.readthedocs.io/en/latest/tutorial/tutorial.html#drawing-graphs"
   ]
  },
  {
   "cell_type": "code",
   "execution_count": 12,
   "metadata": {},
   "outputs": [
    {
     "data": {
      "text/plain": [
       "2"
      ]
     },
     "execution_count": 12,
     "metadata": {},
     "output_type": "execute_result"
    }
   ],
   "source": [
    "# Creating a graph\n",
    "# Create an empty graph with no nodes and no edges.\n",
    "\n",
    "import networkx as nx\n",
    "G=nx.Graph()\n",
    "# By definition, a Graph is a collection of nodes (vertices) along with identified pairs of nodes (called edges, links, etc). In NetworkX, nodes can be any hashable object e.g. a text string, an image, an XML object, another Graph, a customized node object, etc. (Note: Python’s None object should not be used as a node as it determines whether optional function arguments have been assigned in many functions.)\n",
    "\n",
    "# Nodes\n",
    "# The graph G can be grown in several ways. NetworkX includes many graph generator functions and facilities to read and write graphs in many formats. To get started though we’ll look at simple manipulations. You can add one node at a time,\n",
    "\n",
    "G.add_node(1)\n",
    "# add a list of nodes,\n",
    "\n",
    "G.add_nodes_from([2,3])\n",
    "# or add any nbunch of nodes. An nbunch is any iterable container of nodes that is not itself a node in the graph. (e.g. a list, set, graph, file, etc..)\n",
    "\n",
    "H=nx.path_graph(10)\n",
    "G.add_nodes_from(H)\n",
    "# Note that G now contains the nodes of H as nodes of G. In contrast, you could use the graph H as a node in G.\n",
    "\n",
    "G.add_node(H)\n",
    "# The graph G now contains H as a node. This flexibility is very powerful as it allows graphs of graphs, graphs of files, graphs of functions and much more. It is worth thinking about how to structure your application so that the nodes are useful entities. Of course you can always use a unique identifier in G and have a separate dictionary keyed by identifier to the node information if you prefer. (Note: You should not change the node object if the hash depends on its contents.)\n",
    "\n",
    "# Edges\n",
    "# G can also be grown by adding one edge at a time,\n",
    "\n",
    "G.add_edge(1,2)\n",
    "e=(2,3)\n",
    "G.add_edge(*e) # unpack edge tuple*\n",
    "# by adding a list of edges,\n",
    "\n",
    "G.add_edges_from([(1,2),(1,3)])\n",
    "# or by adding any ebunch of edges. An ebunch is any iterable container of edge-tuples. An edge-tuple can be a 2-tuple of nodes or a 3-tuple with 2 nodes followed by an edge attribute dictionary, e.g. (2,3,{‘weight’:3.1415}). Edge attributes are discussed further below\n",
    "\n",
    "G.add_edges_from(H.edges())\n",
    "# One can demolish the graph in a similar fashion; using Graph.remove_node(), Graph.remove_nodes_from(), Graph.remove_edge() and Graph.remove_edges_from(), e.g.\n",
    "\n",
    "G.remove_node(H)\n",
    "# There are no complaints when adding existing nodes or edges. For example, after removing all nodes and edges,\n",
    "\n",
    "G.clear()\n",
    "# we add new nodes/edges and NetworkX quietly ignores any that are already present.\n",
    "\n",
    "G.add_edges_from([(1,2),(1,3)])\n",
    "G.add_node(1)\n",
    "G.add_edge(1,2)\n",
    "G.add_node(\"spam\")       # adds node \"spam\"\n",
    "G.add_nodes_from(\"spam\") # adds 4 nodes: 's', 'p', 'a', 'm'\n",
    "# At this stage the graph G consists of 8 nodes and 2 edges, as can be seen by:\n",
    "\n",
    "G.number_of_nodes()\n",
    "# 8\n",
    "G.number_of_edges()\n",
    "# 2\n",
    "# We can examine the nodes and edges. The methods return iterators of nodes, edges, neighbors, etc. This is typically more memory efficient, but it does mean we need to specify what type of container to put the objects in. Here we use lists, though sets, dicts, tuples and other containers may be better in other contexts.\n"
   ]
  },
  {
   "cell_type": "code",
   "execution_count": 15,
   "metadata": {},
   "outputs": [
    {
     "data": {
      "text/plain": [
       "[2, 3]"
      ]
     },
     "execution_count": 15,
     "metadata": {},
     "output_type": "execute_result"
    }
   ],
   "source": [
    "\n",
    "list(G.nodes())\n",
    "# ['a', 1, 2, 3, 'spam', 'm', 'p', 's']\n",
    "list(G.edges())\n",
    "# [(1, 2), (1, 3)]\n",
    "list(G.neighbors(1))\n",
    "# [2, 3]\n",
    "# Removing nodes or edges has similar syntax to adding:\n"
   ]
  },
  {
   "cell_type": "code",
   "execution_count": 18,
   "metadata": {},
   "outputs": [],
   "source": [
    "G.remove_nodes_from(\"spam\")\n",
    "list(G.nodes())\n",
    "# [1, 2, 3, 'spam']\n",
    "G.remove_edge(1,3)\n"
   ]
  },
  {
   "cell_type": "code",
   "execution_count": 20,
   "metadata": {},
   "outputs": [
    {
     "data": {
      "text/plain": [
       "[(1, 2), (2, 1)]"
      ]
     },
     "execution_count": 20,
     "metadata": {},
     "output_type": "execute_result"
    }
   ],
   "source": [
    "\n",
    "# When creating a graph structure by instantiating one of the graph classes you can specify data in several formats.\n",
    "\n",
    "H=nx.DiGraph(G)   # create a DiGraph using the connections from G\n",
    "list(H.edges())\n",
    "# [(1, 2), (2, 1)]\n"
   ]
  },
  {
   "cell_type": "code",
   "execution_count": 21,
   "metadata": {},
   "outputs": [],
   "source": [
    "\n",
    "edgelist=[(0,1),(1,2),(2,3)]\n",
    "H=nx.Graph(edgelist)\n",
    "\n"
   ]
  },
  {
   "cell_type": "code",
   "execution_count": 22,
   "metadata": {},
   "outputs": [],
   "source": [
    "\n",
    "# What to use as nodes and edges\n",
    "# You might notice that nodes and edges are not specified as NetworkX objects. This leaves you free to use meaningful items as nodes and edges. The most common choices are numbers or strings, but a node can be any hashable object (except None), and an edge can be associated with any object x using G.add_edge(n1,n2,object=x).\n",
    "\n",
    "# As an example, n1 and n2 could be protein objects from the RCSB Protein Data Bank, and x could refer to an XML record of publications detailing experimental observations of their interaction.\n",
    "\n",
    "# We have found this power quite useful, but its abuse can lead to unexpected surprises unless one is familiar with Python. If in doubt, consider using convert_node_labels_to_integers() to obtain a more traditional graph with integer labels.\n",
    "\n",
    "# Accessing edges\n",
    "# In addition to the methods Graph.nodes(), Graph.edges(), and Graph.neighbors(), fast direct access to the graph data structure is also possible using subscript notation.\n",
    "\n",
    "# Warning\n",
    "\n",
    "# Do not change the returned dict–it is part of the graph data structure and direct manipulation may leave the graph in an inconsistent state.\n"
   ]
  },
  {
   "cell_type": "code",
   "execution_count": 24,
   "metadata": {},
   "outputs": [
    {
     "data": {
      "text/plain": [
       "{}"
      ]
     },
     "execution_count": 24,
     "metadata": {},
     "output_type": "execute_result"
    }
   ],
   "source": [
    "\n",
    "G[1]  # Warning: do not change the resulting dict\n",
    "# {2: {}}\n",
    "G[1][2]\n",
    "# {}\n"
   ]
  },
  {
   "cell_type": "code",
   "execution_count": 26,
   "metadata": {},
   "outputs": [
    {
     "data": {
      "text/plain": [
       "<networkx.classes.graph.Graph at 0x7fec209648e0>"
      ]
     },
     "execution_count": 26,
     "metadata": {},
     "output_type": "execute_result"
    }
   ],
   "source": [
    "\n",
    "# You can safely set the attributes of an edge using subscript notation if the edge already exists.\n",
    "\n",
    "G.add_edge(1,3)\n",
    "G[1][3]['color']='blue'\n"
   ]
  },
  {
   "cell_type": "code",
   "execution_count": 28,
   "metadata": {},
   "outputs": [
    {
     "name": "stdout",
     "output_type": "stream",
     "text": [
      "(1, 2, 0.125)\n",
      "(2, 1, 0.125)\n",
      "(3, 4, 0.375)\n",
      "(4, 3, 0.375)\n"
     ]
    }
   ],
   "source": [
    "\n",
    "# Fast examination of all edges is achieved using adjacency iterators. Note that for undirected graphs this actually looks at each edge twice.\n",
    "\n",
    "FG=nx.Graph()\n",
    "FG.add_weighted_edges_from([(1,2,0.125),(1,3,0.75),(2,4,1.2),(3,4,0.375)])\n",
    "for n,nbrs in FG.adjacency():\n",
    "    for nbr,eattr in nbrs.items():\n",
    "        data=eattr['weight']\n",
    "        if data<0.5: print('(%d, %d, %.3f)' % (n,nbr,data))\n",
    "# (1, 2, 0.125)\n",
    "# (2, 1, 0.125)\n",
    "# (3, 4, 0.375)\n",
    "# (4, 3, 0.375)\n"
   ]
  },
  {
   "cell_type": "code",
   "execution_count": 29,
   "metadata": {},
   "outputs": [
    {
     "name": "stdout",
     "output_type": "stream",
     "text": [
      "(1, 2, 0.125)\n",
      "(3, 4, 0.375)\n"
     ]
    }
   ],
   "source": [
    "\n",
    "# Convenient access to all edges is achieved with the edges method.\n",
    "\n",
    "for (u,v,d) in FG.edges(data='weight'):\n",
    "     if d<0.5: print('(%d, %d, %.3f)'%(u,v,d))\n",
    "# (1, 2, 0.125)\n",
    "# (3, 4, 0.375)\n"
   ]
  },
  {
   "cell_type": "code",
   "execution_count": 30,
   "metadata": {},
   "outputs": [
    {
     "data": {
      "text/plain": [
       "{'day': 'Friday'}"
      ]
     },
     "execution_count": 30,
     "metadata": {},
     "output_type": "execute_result"
    }
   ],
   "source": [
    "\n",
    "# Adding attributes to graphs, nodes, and edges\n",
    "# Attributes such as weights, labels, colors, or whatever Python object you like, can be attached to graphs, nodes, or edges.\n",
    "\n",
    "# Each graph, node, and edge can hold key/value attribute pairs in an associated attribute dictionary (the keys must be hashable). By default these are empty, but attributes can be added or changed using add_edge, add_node or direct manipulation of the attribute dictionaries named G.graph, G.node and G.edge for a graph G.\n",
    "\n",
    "# Graph attributes\n",
    "# Assign graph attributes when creating a new graph\n",
    "\n",
    "G = nx.Graph(day=\"Friday\")\n",
    "G.graph\n",
    "# {'day': 'Friday'}\n"
   ]
  },
  {
   "cell_type": "code",
   "execution_count": 31,
   "metadata": {},
   "outputs": [
    {
     "data": {
      "text/plain": [
       "{'day': 'Monday'}"
      ]
     },
     "execution_count": 31,
     "metadata": {},
     "output_type": "execute_result"
    }
   ],
   "source": [
    "\n",
    "# Or you can modify attributes later\n",
    "\n",
    "G.graph['day']='Monday'\n",
    "G.graph\n",
    "# {'day': 'Monday'}\n",
    "\n"
   ]
  },
  {
   "cell_type": "code",
   "execution_count": 32,
   "metadata": {},
   "outputs": [],
   "source": [
    "\n",
    "# Node attributes\n",
    "# Add node attributes using add_node(), add_nodes_from() or G.node\n",
    "\n",
    "G.add_node(1, time='5pm')\n"
   ]
  },
  {
   "cell_type": "code",
   "execution_count": null,
   "metadata": {},
   "outputs": [],
   "source": [
    "\n",
    "# G.add_nodes_from([3], time='2pm')\n",
    "# G.node[1]\n",
    "# {'time': '5pm'}\n",
    "# G.node[1]['room'] = 714\n",
    "# list(G.nodes(data=True))\n",
    "# [(1, {'room': 714, 'time': '5pm'}), (3, {'time': '2pm'})]\n",
    "# Note that adding a node to G.node does not add it to the graph, use G.add_node() to add new nodes.\n",
    "\n",
    "# Edge Attributes\n",
    "# Add edge attributes using add_edge(), add_edges_from(), subscript notation, or G.edge.\n",
    "\n",
    "# G.add_edge(1, 2, weight=4.7 )\n",
    "# G.add_edges_from([(3,4),(4,5)], color='red')\n",
    "# G.add_edges_from([(1,2,{'color':'blue'}), (2,3,{'weight':8})])\n",
    "# G[1][2]['weight'] = 4.7\n",
    "# G.edge[1][2]['weight'] = 4\n",
    "# The special attribute ‘weight’ should be numeric and holds values used by algorithms requiring weighted edges. Warning: Do not assign anything to G.edge[u] or G.edge[u][v] as it will corrupt the graph data structure. Change the edge dict as shown above.\n"
   ]
  },
  {
   "cell_type": "code",
   "execution_count": null,
   "metadata": {},
   "outputs": [],
   "source": [
    "\n",
    "# Directed graphs\n",
    "# The DiGraph class provides additional methods specific to directed edges, e.g. DiGraph.out_edges(), DiGraph.in_degree(), DiGraph.predecessors(), DiGraph.successors() etc. To allow algorithms to work with both classes easily, the directed versions of neighbors() and degree() are equivalent to successors() and the sum of in_degree() and out_degree() respectively even though that may feel inconsistent at times.\n",
    "\n",
    "# DG=nx.DiGraph()\n",
    "# DG.add_weighted_edges_from([(1,2,0.5), (3,1,0.75)])\n",
    "# DG.out_degree(1,weight='weight')\n",
    "# 0.5\n",
    "# DG.degree(1,weight='weight')\n",
    "# 1.25\n",
    "# DG.successors(1)\n",
    "# [2]\n",
    "# DG.neighbors(1)\n",
    "# [2]\n",
    "# Some algorithms work only for directed graphs and others are not well defined for directed graphs. Indeed the tendency to lump directed and undirected graphs together is dangerous. If you want to treat a directed graph as undirected for some measurement you should probably convert it using Graph.to_undirected() or with\n",
    "\n",
    "# H = nx.Graph(G) # convert G to undirected graph\n"
   ]
  },
  {
   "cell_type": "code",
   "execution_count": null,
   "metadata": {},
   "outputs": [],
   "source": [
    "\n",
    "# Multigraphs\n",
    "# NetworkX provides classes for graphs which allow multiple edges between any pair of nodes. The MultiGraph and MultiDiGraph classes allow you to add the same edge twice, possibly with different edge data. This can be powerful for some applications, but many algorithms are not well defined on such graphs. Where results are well defined, e.g. MultiGraph.degree() we provide the function. Otherwise you should convert to a standard graph in a way that makes the measurement well defined.\n",
    "\n",
    "# MG=nx.MultiGraph()\n",
    "# MG.add_weighted_edges_from([(1,2,.5), (1,2,.75), (2,3,.5)])\n",
    "# dict(MG.degree(weight='weight'))\n",
    "# {1: 1.25, 2: 1.75, 3: 0.5}\n",
    "# GG=nx.Graph()\n",
    "# for n,nbrs in MG.adjacency_iter():\n",
    "# ...    for nbr,edict in nbrs.items():\n",
    "# ...        minvalue=min([d['weight'] for d in edict.values()])\n",
    "# ...        GG.add_edge(n,nbr, weight = minvalue)\n",
    "# ...\n",
    "# nx.shortest_path(GG,1,3)\n",
    "# [1, 2, 3]\n",
    "# Graph generators and graph operations\n",
    "# In addition to constructing graphs node-by-node or edge-by-edge, they can also be generated by\n",
    "\n",
    "# Applying classic graph operations, such as:\n",
    "\n",
    "# subgraph(G, nbunch)      - induce subgraph of G on nodes in nbunch\n",
    "# union(G1,G2)             - graph union\n",
    "# disjoint_union(G1,G2)    - graph union assuming all nodes are different\n",
    "# cartesian_product(G1,G2) - return Cartesian product graph\n",
    "# compose(G1,G2)           - combine graphs identifying nodes common to both\n",
    "# complement(G)            - graph complement\n",
    "# create_empty_copy(G)     - return an empty copy of the same graph class\n",
    "# convert_to_undirected(G) - return an undirected representation of G\n",
    "# convert_to_directed(G)   - return a directed representation of G\n",
    "# Using a call to one of the classic small graphs, e.g.\n",
    "\n",
    "# petersen=nx.petersen_graph()\n",
    "# tutte=nx.tutte_graph()\n",
    "# maze=nx.sedgewick_maze_graph()\n",
    "# tet=nx.tetrahedral_graph()\n",
    "# Using a (constructive) generator for a classic graph, e.g.\n",
    "# K_5=nx.complete_graph(5)\n",
    "# K_3_5=nx.complete_bipartite_graph(3,5)\n",
    "# barbell=nx.barbell_graph(10,10)\n",
    "# lollipop=nx.lollipop_graph(10,20)\n",
    "# Using a stochastic graph generator, e.g.\n",
    "# er=nx.erdos_renyi_graph(100,0.15)\n",
    "# ws=nx.watts_strogatz_graph(30,3,0.1)\n",
    "# ba=nx.barabasi_albert_graph(100,5)\n",
    "# red=nx.random_lobster(100,0.9,0.9)\n",
    "# Reading a graph stored in a file using common graph formats, such as edge lists, adjacency lists, GML, GraphML, pickle, LEDA and others.\n",
    "# nx.write_gml(red,\"path.to.file\")\n",
    "# mygraph=nx.read_gml(\"path.to.file\")\n",
    "# Details on graph formats: Reading and writing graphs\n",
    "\n",
    "# Details on graph generator functions: Graph generators\n",
    "\n",
    "# Analyzing graphs\n",
    "# The structure of G can be analyzed using various graph-theoretic functions such as:\n",
    "\n",
    "# G=nx.Graph()\n",
    "# G.add_edges_from([(1,2),(1,3)])\n",
    "# G.add_node(\"spam\")       # adds node \"spam\"\n",
    "# list(nx.connected_components(G))\n",
    "# [{1, 2, 3}, {'spam'}]\n",
    "# sorted(d for n, d in G.degree())\n",
    "# [0, 1, 1, 2]\n",
    "# nx.clustering(G)\n",
    "# {1: 0.0, 2: 0.0, 3: 0.0, 'spam': 0.0}\n",
    "# Functions that return node properties return iterators over node, value 2-tuples. These are easily stored in a dict structure if you desire.\n",
    "\n",
    "# dict(nx.degree(G))\n",
    "# {1: 2, 2: 1, 3: 1, 'spam': 0}\n",
    "# For values of specific nodes, you can provide a single node or an nbunch of nodes as argument. If a single node is specified, then a single value is returned. If an nbunch is specified, then the function will return a dictionary.\n",
    "\n",
    "# nx.degree(G,1)\n",
    "# 2\n",
    "# G.degree(1)\n",
    "# 2\n",
    "# dict(G.degree([1,2]))\n",
    "# {1: 2, 2: 1}\n",
    "# sorted(d for n, d in G.degree([1,2]))\n",
    "# [1, 2]\n",
    "# sorted(d for n, d in G.degree())\n",
    "# [0, 1, 1, 2]\n",
    "# Details on graph algorithms supported: Algorithms\n"
   ]
  },
  {
   "cell_type": "code",
   "execution_count": 34,
   "metadata": {},
   "outputs": [
    {
     "data": {
      "image/png": "[encoded data removed]",
      "text/plain": [
       "<Figure size 640x480 with 1 Axes>"
      ]
     },
     "metadata": {},
     "output_type": "display_data"
    }
   ],
   "source": [
    "\n",
    "# Drawing graphs\n",
    "# NetworkX is not primarily a graph drawing package but basic drawing with Matplotlib as well as an interface to use the open source Graphviz software package are included. These are part of the networkx.drawing package and will be imported if possible. See Drawing for details.\n",
    "\n",
    "# Note that the drawing package in NetworkX is not yet compatible with Python versions 3.0 and above.\n",
    "\n",
    "# First import Matplotlib’s plot interface (pylab works too)\n",
    "\n",
    "import matplotlib.pyplot as plt\n",
    "# You may find it useful to interactively test code using “ipython -pylab”, which combines the power of ipython and matplotlib and provides a convenient interactive mode.\n",
    "\n",
    "# To test if the import of networkx.drawing was successful draw G using one of\n",
    "\n",
    "nx.draw(G)\n"
   ]
  },
  {
   "cell_type": "code",
   "execution_count": 38,
   "metadata": {},
   "outputs": [
    {
     "data": {
      "image/png": "[encoded data removed]",
      "text/plain": [
       "<Figure size 640x480 with 1 Axes>"
      ]
     },
     "metadata": {},
     "output_type": "display_data"
    }
   ],
   "source": [
    "\n",
    "# nx.draw_random(G)\n",
    "# nx.draw_circular(G)\n",
    "nx.draw_spectral(G)\n"
   ]
  },
  {
   "cell_type": "code",
   "execution_count": 40,
   "metadata": {},
   "outputs": [
    {
     "data": {
      "image/png": "[encoded data removed]",
      "text/plain": [
       "<Figure size 640x480 with 1 Axes>"
      ]
     },
     "metadata": {},
     "output_type": "display_data"
    }
   ],
   "source": [
    "\n",
    "# when drawing to an interactive display. Note that you may need to issue a Matplotlib\n",
    "\n",
    "# plt.show()\n",
    "# command if you are not using matplotlib in interactive mode: (See Matplotlib FAQ )\n",
    "\n",
    "# To save drawings to a file, use, for example\n",
    "\n",
    "nx.draw(G)\n"
   ]
  },
  {
   "cell_type": "code",
   "execution_count": 43,
   "metadata": {},
   "outputs": [
    {
     "data": {
      "image/png": "[encoded data removed]",
      "text/plain": [
       "<Figure size 640x480 with 1 Axes>"
      ]
     },
     "metadata": {},
     "output_type": "display_data"
    }
   ],
   "source": [
    "\n",
    "# plt.savefig(\"path.png\")\n",
    "# writes to the file “path.png” in the local directory. If Graphviz and PyGraphviz or pydot, are available on your system, you can also use nx_agraph.graphviz_layout(G) or nx_pydot.graphviz_layout(G) to get the node positions, or write the graph in dot format for further processing.\n",
    "\n",
    "pos = nx.nx_agraph.graphviz_layout(G)\n",
    "nx.draw(G, pos=pos)\n",
    "# nx.write_dot(G,'file.dot')\n",
    " "
   ]
  },
  {
   "cell_type": "code",
   "execution_count": null,
   "metadata": {},
   "outputs": [],
   "source": []
  }
 ],
 "metadata": {
  "kernelspec": {
   "display_name": "venv",
   "language": "python",
   "name": "python3"
  },
  "language_info": {
   "codemirror_mode": {
    "name": "ipython",
    "version": 3
   },
   "file_extension": ".py",
   "mimetype": "text/x-python",
   "name": "python",
   "nbconvert_exporter": "python",
   "pygments_lexer": "ipython3",
   "version": "3.9.12 (main, Apr  5 2022, 01:53:17) \n[Clang 12.0.0 ]"
  },
  "orig_nbformat": 4,
  "vscode": {
   "interpreter": {
    "hash": "f1506353a1e91560ee1cdaf03a483f242963151ff813fcc6462b4fd55cd94617"
   }
  }
 },
 "nbformat": 4,
 "nbformat_minor": 2
}
