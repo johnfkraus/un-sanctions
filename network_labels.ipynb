{
 "cells": [
  {
   "cell_type": "code",
   "execution_count": 3,
   "metadata": {},
   "outputs": [],
   "source": [
    "import pandas as pd\n",
    "import numpy as np\n",
    "df = pd.DataFrame({'Company': ['A', 'A', 'B', 'B', 'B', 'C', 'C'],\n",
    "              'event_type':['new', 'route', 'receive', 'execute', 'route', 'receive', 'execute'],\n",
    "             'event_id': ['110', '120', '200', '210', '220', '300', '310'],\n",
    "             'prior_event_id': [np.nan, '110', np.nan, '120', '210', np.nan, '300'],\n",
    "             'route_id': [np.nan, 'foo', 'foo', np.nan, 'bar', 'bar', np.nan]}\n",
    "             )"
   ]
  },
  {
   "cell_type": "code",
   "execution_count": 4,
   "metadata": {},
   "outputs": [],
   "source": [
    "df['event_sub'] = df.groupby([df.Company, df.event_type]).cumcount()+1\n",
    "df['event'] = df.Company + ' ' + df.event_type + ' ' + df.event_sub.astype(str)  \n",
    "\n",
    "replace_dict_event = dict(df[['event_id', 'event']].values)\n",
    "df['source'] = df['prior_event_id'].apply(lambda x: replace_dict_event.get(x) if replace_dict_event.get(x) else np.nan )\n",
    "df['target'] = df['event_id'].apply(lambda x: replace_dict_event.get(x) if replace_dict_event.get(x) else np.nan )\n",
    "\n",
    "replace_dict_rtd = dict(df[df.event_type == 'route'][['route_id', 'event']].values)\n",
    "df.loc[df.event_type == 'receive', 'source'] = df[df.event_type == 'receive']['route_id'].apply(lambda x: replace_dict_rtd.get(x))"
   ]
  },
  {
   "cell_type": "code",
   "execution_count": 5,
   "metadata": {},
   "outputs": [],
   "source": [
    "df['event'] = df.Company + '\\n' + df.event_type + ' ' + df.event_sub.astype(str) \n"
   ]
  },
  {
   "cell_type": "code",
   "execution_count": 8,
   "metadata": {},
   "outputs": [
    {
     "data": {
      "text/plain": [
       "{}"
      ]
     },
     "execution_count": 8,
     "metadata": {},
     "output_type": "execute_result"
    },
    {
     "data": {
      "image/png": "[encoded data removed]",
      "text/plain": [
       "<Figure size 640x480 with 1 Axes>"
      ]
     },
     "metadata": {},
     "output_type": "display_data"
    }
   ],
   "source": [
    "import networkx as nx\n",
    "# dummy data\n",
    "a = np.random.randint(0,2,size=(10,10))\n",
    "\n",
    "# G = nx.from_numpy_matrix(a)\n",
    "G = nx.Graph(matrix=a)\n",
    "\n",
    "pos = nx.spring_layout(G)\n",
    "\n",
    "# draw without labels, then draw labels separately\n",
    "nx.draw_networkx(G, pos=pos, with_labels=False)\n",
    "\n",
    "# draw_networkx_labels takes as keyword argument a dictionary called labels\n",
    "# which links the id of a node to a name.\n",
    "# you can create one using dictionary comprehension like so:\n",
    "nodenames = {n:'firstline \\n secondline \\n thirdline' for n in G.nodes()}\n",
    "\n",
    "# and then draw:\n",
    "nx.draw_networkx_labels(G, pos=pos, labels=nodenames)"
   ]
  },
  {
   "cell_type": "code",
   "execution_count": 11,
   "metadata": {},
   "outputs": [
    {
     "data": {
      "image/png": "[encoded data removed]",
      "text/plain": [
       "<Figure size 640x480 with 1 Axes>"
      ]
     },
     "metadata": {},
     "output_type": "display_data"
    }
   ],
   "source": [
    "import numpy as np \n",
    "import networkx as nx \n",
    "import matplotlib.pyplot as plt \n",
    " \n",
    "# Define the adjacency matrix \n",
    "A = np.array([[0, 1, 1, 0], \n",
    "              [1, 0, 1, 1], \n",
    "              [1, 1, 0, 1], \n",
    "              [0, 1, 1, 0]]) \n",
    " \n",
    "# Create a graph from the adjacency matrix \n",
    "G = nx.Graph(matrix=A) \n",
    " \n",
    "# Draw the graph \n",
    "nx.draw(G, with_labels=True) \n",
    " \n",
    "# Show the plot \n",
    "plt.show() "
   ]
  }
 ],
 "metadata": {
  "kernelspec": {
   "display_name": "venv",
   "language": "python",
   "name": "python3"
  },
  "language_info": {
   "codemirror_mode": {
    "name": "ipython",
    "version": 3
   },
   "file_extension": ".py",
   "mimetype": "text/x-python",
   "name": "python",
   "nbconvert_exporter": "python",
   "pygments_lexer": "ipython3",
   "version": "3.9.12"
  },
  "orig_nbformat": 4,
  "vscode": {
   "interpreter": {
    "hash": "f1506353a1e91560ee1cdaf03a483f242963151ff813fcc6462b4fd55cd94617"
   }
  }
 },
 "nbformat": 4,
 "nbformat_minor": 2
}
